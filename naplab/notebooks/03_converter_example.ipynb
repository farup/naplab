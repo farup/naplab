{
 "cells": [
  {
   "cell_type": "code",
   "execution_count": 4,
   "metadata": {},
   "outputs": [],
   "source": [
    "import sys\n",
    "sys.path.append(\"/cluster/home/terjenf/naplab\")"
   ]
  },
  {
   "cell_type": "code",
   "execution_count": null,
   "metadata": {},
   "outputs": [
    {
     "name": "stdout",
     "output_type": "stream",
     "text": [
      "Converters\n",
      "/cluster/home/terjenf/naplab/naplab/notebooks\n",
      "2 naplab\n",
      "Print Parser\n",
      "naplab devkit inner\n",
      "Converters\n",
      "/cluster/home/terjenf/naplab/naplab/notebooks\n"
     ]
    }
   ],
   "source": [
    "from converters import create_naplab_infos_map # generate the pickle file (annotation file) used as input for HD map models"
   ]
  },
  {
   "cell_type": "code",
   "execution_count": 6,
   "metadata": {},
   "outputs": [],
   "source": [
    "data_root = \"/cluster/home/terjenf/naplab/data\" # input data path\n",
    "info_prefix = \"mild_fw_func\" # first part of output name     "
   ]
  },
  {
   "cell_type": "code",
   "execution_count": 7,
   "metadata": {},
   "outputs": [
    {
     "name": "stdout",
     "output_type": "stream",
     "text": [
      "6 calibrated_sensor,\n",
      "5513 ego_pose,\n",
      "5513 sample,\n",
      "33078 sample_data,\n",
      "138 scene,\n",
      "1 naplab_map,\n",
      "Done loading in 0.313 seconds.\n",
      "======\n",
      "Reverse indexing ...\n",
      "Done reverse indexing in 0.0 seconds.\n",
      "======\n",
      "saving naplab set to /cluster/home/terjenf/naplab/data/Trip077/mild_fw_func_maptracker_infos.pkl\n",
      "Saved to /cluster/home/terjenf/naplab/data/Trip077/mild_fw_func_maptracker_infos.pkl\n"
     ]
    }
   ],
   "source": [
    "create_naplab_infos_map(root_path=data_root, info_prefix=info_prefix)"
   ]
  },
  {
   "cell_type": "code",
   "execution_count": null,
   "metadata": {},
   "outputs": [],
   "source": []
  }
 ],
 "metadata": {
  "kernelspec": {
   "display_name": "Python 3",
   "language": "python",
   "name": "python3"
  },
  "language_info": {
   "codemirror_mode": {
    "name": "ipython",
    "version": 3
   },
   "file_extension": ".py",
   "mimetype": "text/x-python",
   "name": "python",
   "nbconvert_exporter": "python",
   "pygments_lexer": "ipython3",
   "version": "3.13.0"
  }
 },
 "nbformat": 4,
 "nbformat_minor": 2
}
