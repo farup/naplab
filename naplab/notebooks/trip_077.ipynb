{
 "cells": [
  {
   "cell_type": "code",
   "execution_count": 4,
   "metadata": {},
   "outputs": [],
   "source": [
    "import os\n",
    "import sys"
   ]
  },
  {
   "cell_type": "code",
   "execution_count": 5,
   "metadata": {},
   "outputs": [
    {
     "name": "stdout",
     "output_type": "stream",
     "text": [
      "/cluster/home/terjenf/naplab/naplab/notebooks\n",
      "['/cluster/home/terjenf/.conda/envs/ipm/lib/python313.zip', '/cluster/home/terjenf/.conda/envs/ipm/lib/python3.13', '/cluster/home/terjenf/.conda/envs/ipm/lib/python3.13/lib-dynload', '', '/cluster/home/terjenf/.conda/envs/ipm/lib/python3.13/site-packages', '/cluster/home/terjenf/.conda/envs/ipm/lib/python3.13/site-packages/setuptools/_vendor']\n"
     ]
    }
   ],
   "source": [
    "print(os.getcwd())\n",
    "print(sys.path)"
   ]
  },
  {
   "cell_type": "code",
   "execution_count": 6,
   "metadata": {},
   "outputs": [
    {
     "ename": "ImportError",
     "evalue": "attempted relative import with no known parent package",
     "output_type": "error",
     "traceback": [
      "\u001b[0;31m---------------------------------------------------------------------------\u001b[0m",
      "\u001b[0;31mImportError\u001b[0m                               Traceback (most recent call last)",
      "Cell \u001b[0;32mIn[6], line 1\u001b[0m\n\u001b[0;32m----> 1\u001b[0m \u001b[38;5;28;01mfrom\u001b[39;00m \u001b[38;5;21;01m.\u001b[39;00m\u001b[38;5;21;01m.\u001b[39;00m\u001b[38;5;21;01mnaplab\u001b[39;00m \u001b[38;5;28;01mimport\u001b[39;00m NapLab\n",
      "\u001b[0;31mImportError\u001b[0m: attempted relative import with no known parent package"
     ]
    }
   ],
   "source": [
    "from ..naplab import NapLab"
   ]
  },
  {
   "cell_type": "code",
   "execution_count": 7,
   "metadata": {},
   "outputs": [
    {
     "name": "stdout",
     "output_type": "stream",
     "text": [
      "/cluster/home/terjenf/naplab/naplab/notebooks\n",
      "['/cluster/home/terjenf/.conda/envs/ipm/lib/python313.zip', '/cluster/home/terjenf/.conda/envs/ipm/lib/python3.13', '/cluster/home/terjenf/.conda/envs/ipm/lib/python3.13/lib-dynload', '', '/cluster/home/terjenf/.conda/envs/ipm/lib/python3.13/site-packages', '/cluster/home/terjenf/.conda/envs/ipm/lib/python3.13/site-packages/setuptools/_vendor']\n"
     ]
    }
   ],
   "source": [
    "print(os.getcwd())\n",
    "print(sys.path)\n",
    "sys.path.append(\"/cluster/home/terjenf/naplab\")\n",
    "# sys.path.append(\"/cluster/home/terjenf/naplab/naplab\")\n",
    "# sys.path.append(\"/cluster/home/terjenf/naplab/naplab/naplab\")\n",
    "\n"
   ]
  },
  {
   "cell_type": "code",
   "execution_count": 8,
   "metadata": {},
   "outputs": [
    {
     "name": "stdout",
     "output_type": "stream",
     "text": [
      "2 naplab\n",
      "Print Parser\n",
      "naplab devkit inner\n"
     ]
    }
   ],
   "source": [
    "\n",
    "from naplab import NapLab"
   ]
  },
  {
   "cell_type": "code",
   "execution_count": 9,
   "metadata": {},
   "outputs": [],
   "source": [
    "from naplab import NapLabParser"
   ]
  },
  {
   "cell_type": "code",
   "execution_count": 10,
   "metadata": {},
   "outputs": [],
   "source": [
    "raw_dataroot = \"/cluster/home/terjenf/MapTR/NAP_raw_data\"\n",
    "trip = \"Trip077\"\n",
    "processed_dataroot = \"/cluster/home/terjenf/naplab/data\"\n",
    "nuscene_path = \"/cluster/home/terjenf/naplab/naplab/naplab_parser/metadata_nuscenes/nuscene_metadata.json\"\n",
    "\n",
    "selected_cams = [\n",
    "    'C1_front60Single', \n",
    "    'C8_R2', \n",
    "    'C7_L2',\n",
    "    'C4_rearCam', \n",
    "    'C6_L1',\n",
    "    'C5_R1']\n",
    "\n"
   ]
  },
  {
   "cell_type": "code",
   "execution_count": 11,
   "metadata": {},
   "outputs": [
    {
     "name": "stdout",
     "output_type": "stream",
     "text": [
      "Counted 16570 timestamps in file /cluster/home/terjenf/MapTR/NAP_raw_data/Trip077/C1_front60Single.h264.timestamps\n",
      "Counted 16570 timestamps in file /cluster/home/terjenf/MapTR/NAP_raw_data/Trip077/C4_rearCam.h264.timestamps\n",
      "Counted 16570 timestamps in file /cluster/home/terjenf/MapTR/NAP_raw_data/Trip077/C5_R1.h264.timestamps\n",
      "Counted 16571 timestamps in file /cluster/home/terjenf/MapTR/NAP_raw_data/Trip077/C6_L1.h264.timestamps\n",
      "Counted 16571 timestamps in file /cluster/home/terjenf/MapTR/NAP_raw_data/Trip077/C7_L2.h264.timestamps\n",
      "Counted 16570 timestamps in file /cluster/home/terjenf/MapTR/NAP_raw_data/Trip077/C8_R2.h264.timestamps\n",
      "Read and extracted 5524 lines of data\n",
      "----------- Average Synce Diff To GNSS: 0.8563680232621289 seconds | Cam Start Index None | GNSS End Index None | ------------------\n",
      "Starting Best Sync Calculations...\n",
      "Updating start cams and end gnss timestamps...\n",
      "Adjusting timestamps to new starts and end...\n",
      "----------- Average Synce Diff To GNSS: 0.39238907373480864 seconds | Cam Start Index 31 | GNSS End Index -11 | ------------------\n"
     ]
    },
    {
     "data": {
      "text/plain": [
       "<Figure size 1000x1000 with 0 Axes>"
      ]
     },
     "metadata": {},
     "output_type": "display_data"
    }
   ],
   "source": [
    "naplab_parser = NapLabParser(raw_dataroot=raw_dataroot, trip=trip, processed_dataroot=processed_dataroot, selected_cams=selected_cams, nuscnes_path=nuscene_path)\n"
   ]
  },
  {
   "cell_type": "code",
   "execution_count": 12,
   "metadata": {},
   "outputs": [
    {
     "data": {
      "text/plain": [
       "[0.0,\n",
       " 0.000536573003046215,\n",
       " 1.28669519483537e-08,\n",
       " -1.43870852731265e-11,\n",
       " 3.0433934028912e-15]"
      ]
     },
     "execution_count": 12,
     "metadata": {},
     "output_type": "execute_result"
    }
   ],
   "source": [
    "naplab_parser.camera_parameters['C1_front60Single']['bw_coeff']"
   ]
  },
  {
   "cell_type": "code",
   "execution_count": 13,
   "metadata": {},
   "outputs": [
    {
     "name": "stdout",
     "output_type": "stream",
     "text": [
      "Counted 15596 timestamps in file /cluster/home/terjenf/MapTR/NAP_raw_data/Trip076/C1_front60Single.h264.timestamps\n",
      "Counted 15598 timestamps in file /cluster/home/terjenf/MapTR/NAP_raw_data/Trip076/C4_rearCam.h264.timestamps\n",
      "Counted 15599 timestamps in file /cluster/home/terjenf/MapTR/NAP_raw_data/Trip076/C5_R1.h264.timestamps\n",
      "Counted 15600 timestamps in file /cluster/home/terjenf/MapTR/NAP_raw_data/Trip076/C6_L1.h264.timestamps\n",
      "Counted 15600 timestamps in file /cluster/home/terjenf/MapTR/NAP_raw_data/Trip076/C7_L2.h264.timestamps\n",
      "Counted 15598 timestamps in file /cluster/home/terjenf/MapTR/NAP_raw_data/Trip076/C8_R2.h264.timestamps\n"
     ]
    },
    {
     "ename": "ValueError",
     "evalue": "could not convert string to float: b''",
     "output_type": "error",
     "traceback": [
      "\u001b[0;31m---------------------------------------------------------------------------\u001b[0m",
      "\u001b[0;31mValueError\u001b[0m                                Traceback (most recent call last)",
      "Cell \u001b[0;32mIn[13], line 1\u001b[0m\n\u001b[0;32m----> 1\u001b[0m naplab_parser \u001b[38;5;241m=\u001b[39m \u001b[43mNapLabParser\u001b[49m\u001b[43m(\u001b[49m\u001b[43mraw_dataroot\u001b[49m\u001b[38;5;241;43m=\u001b[39;49m\u001b[43mraw_dataroot\u001b[49m\u001b[43m,\u001b[49m\u001b[43m \u001b[49m\u001b[43mtrip\u001b[49m\u001b[38;5;241;43m=\u001b[39;49m\u001b[38;5;124;43m\"\u001b[39;49m\u001b[38;5;124;43mTrip076\u001b[39;49m\u001b[38;5;124;43m\"\u001b[39;49m\u001b[43m,\u001b[49m\u001b[43m \u001b[49m\u001b[43mprocessed_dataroot\u001b[49m\u001b[38;5;241;43m=\u001b[39;49m\u001b[43mprocessed_dataroot\u001b[49m\u001b[43m,\u001b[49m\u001b[43m \u001b[49m\u001b[43mselected_cams\u001b[49m\u001b[38;5;241;43m=\u001b[39;49m\u001b[43mselected_cams\u001b[49m\u001b[43m,\u001b[49m\u001b[43m \u001b[49m\u001b[43mnuscnes_path\u001b[49m\u001b[38;5;241;43m=\u001b[39;49m\u001b[43mnuscene_path\u001b[49m\u001b[43m)\u001b[49m\n",
      "File \u001b[0;32m~/naplab/naplab/naplab_parser/naplab_parser.py:39\u001b[0m, in \u001b[0;36mNapLabParser.__init__\u001b[0;34m(self, raw_dataroot, trip, processed_dataroot, selected_cams, nuscnes_path, nbr_samples)\u001b[0m\n\u001b[1;32m     36\u001b[0m cams_timestamps \u001b[38;5;241m=\u001b[39m parsing_utils\u001b[38;5;241m.\u001b[39mget_cams_timestamps(\u001b[38;5;28mself\u001b[39m\u001b[38;5;241m.\u001b[39mcams_timestamps_files)\n\u001b[1;32m     38\u001b[0m \u001b[38;5;28mself\u001b[39m\u001b[38;5;241m.\u001b[39mprep_cams_timestamps \u001b[38;5;241m=\u001b[39m timestamps_utils\u001b[38;5;241m.\u001b[39mpreparare_timestsamps(cams_timestamps) \u001b[38;5;66;03m# all same length\u001b[39;00m\n\u001b[0;32m---> 39\u001b[0m \u001b[38;5;28mself\u001b[39m\u001b[38;5;241m.\u001b[39mlat_lon, \u001b[38;5;28mself\u001b[39m\u001b[38;5;241m.\u001b[39mgnss_timestamps \u001b[38;5;241m=\u001b[39m \u001b[43mGNSSParser\u001b[49m\u001b[38;5;241;43m.\u001b[39;49m\u001b[43mget_gnns_data\u001b[49m\u001b[43m(\u001b[49m\u001b[38;5;28;43mself\u001b[39;49m\u001b[38;5;241;43m.\u001b[39;49m\u001b[43mgnss_file\u001b[49m\u001b[43m[\u001b[49m\u001b[38;5;241;43m0\u001b[39;49m\u001b[43m]\u001b[49m\u001b[43m)\u001b[49m\n\u001b[1;32m     42\u001b[0m \u001b[38;5;28mself\u001b[39m\u001b[38;5;241m.\u001b[39mget_average_sync_diff(\u001b[38;5;28mself\u001b[39m\u001b[38;5;241m.\u001b[39mprep_cams_timestamps, \u001b[38;5;28mself\u001b[39m\u001b[38;5;241m.\u001b[39mgnss_timestamps)\n\u001b[1;32m     43\u001b[0m \u001b[38;5;28mself\u001b[39m\u001b[38;5;241m.\u001b[39mres \u001b[38;5;241m=\u001b[39m timestamps_utils\u001b[38;5;241m.\u001b[39mget_best_syncs(\u001b[38;5;28mself\u001b[39m\u001b[38;5;241m.\u001b[39mprep_cams_timestamps, \u001b[38;5;28mself\u001b[39m\u001b[38;5;241m.\u001b[39mgnss_timestamps, output_path_plot\u001b[38;5;241m=\u001b[39m\u001b[38;5;28mself\u001b[39m\u001b[38;5;241m.\u001b[39mprocessed_dataroot, save\u001b[38;5;241m=\u001b[39m\u001b[38;5;28;01mTrue\u001b[39;00m)\n",
      "File \u001b[0;32m~/naplab/naplab/naplab_parser/parsers/gnss_parser.py:145\u001b[0m, in \u001b[0;36mGNSSParser.get_gnns_data\u001b[0;34m(gnss_file)\u001b[0m\n\u001b[1;32m    143\u001b[0m coord \u001b[38;5;241m=\u001b[39m (line\u001b[38;5;241m.\u001b[39msplit(\u001b[38;5;124mb\u001b[39m\u001b[38;5;124m\"\u001b[39m\u001b[38;5;124m,\u001b[39m\u001b[38;5;124m\"\u001b[39m)[\u001b[38;5;241m2\u001b[39m:\u001b[38;5;241m6\u001b[39m])  \u001b[38;5;66;03m# $GPGGA,073431.40,6324.6039342,N,01025.1341944,E,4,13,0.9,98.06,M,0.0,M,1.4,0246*7A 1684740871477031\\r\\n'Trip 78 | \u001b[39;00m\n\u001b[1;32m    144\u001b[0m                                  \u001b[38;5;66;03m# b'$GPGGA,071840.90,6324.8972646,N,01023.9477304,E,4,14,1.1,65.70,M,0.0,M,0.9,0246*75 1684739920978036\\r\\n' Trip077\u001b[39;00m\n\u001b[0;32m--> 145\u001b[0m latitude \u001b[38;5;241m=\u001b[39m \u001b[38;5;28;43mfloat\u001b[39;49m\u001b[43m(\u001b[49m\u001b[43mcoord\u001b[49m\u001b[43m[\u001b[49m\u001b[43m:\u001b[49m\u001b[38;5;241;43m2\u001b[39;49m\u001b[43m]\u001b[49m\u001b[43m[\u001b[49m\u001b[38;5;241;43m0\u001b[39;49m\u001b[43m]\u001b[49m\u001b[38;5;241;43m.\u001b[39;49m\u001b[43mstrip\u001b[49m\u001b[43m(\u001b[49m\u001b[43m)\u001b[49m\u001b[43m)\u001b[49m  \u001b[38;5;66;03m#  6324.8972646 \u001b[39;00m\n\u001b[1;32m    146\u001b[0m longitude \u001b[38;5;241m=\u001b[39m \u001b[38;5;28mfloat\u001b[39m(coord[\u001b[38;5;241m2\u001b[39m:][\u001b[38;5;241m0\u001b[39m]\u001b[38;5;241m.\u001b[39mstrip()) \u001b[38;5;66;03m# 1023.9477304 \u001b[39;00m\n\u001b[1;32m    148\u001b[0m lat \u001b[38;5;241m=\u001b[39m GNSSParser\u001b[38;5;241m.\u001b[39mnmea_to_decimal(\u001b[38;5;28mstr\u001b[39m(latitude)) \u001b[38;5;66;03m# 63.41495441\u001b[39;00m\n",
      "\u001b[0;31mValueError\u001b[0m: could not convert string to float: b''"
     ]
    }
   ],
   "source": [
    "naplab_parser = NapLabParser(raw_dataroot=raw_dataroot, trip=\"Trip076\", processed_dataroot=processed_dataroot, selected_cams=selected_cams, nuscnes_path=nuscene_path)\n"
   ]
  },
  {
   "cell_type": "code",
   "execution_count": null,
   "metadata": {},
   "outputs": [],
   "source": [
    "def make_image_coords(image):\n",
    "    \"\"\" \n",
    "    Generate mesh grid for plotting image plane\n",
    "    \"\"\"\n",
    "    image_height, image_width = image.shape[0], image.shape[1]\n",
    "\n",
    "    X, Y = np.meshgrid(np.arange(image_width), np.arange(image_height))\n",
    "\n",
    "    x_coords = X.flatten()\n",
    "    y_coords = Y.flatten()\n",
    "\n",
    "    image_coords = np.stack((y_coords, x_coords))\n",
    "    return image_coords, X, Y \n",
    "\n",
    "image_coords, X, Y = make_image_coords(image)\n"
   ]
  },
  {
   "cell_type": "code",
   "execution_count": null,
   "metadata": {},
   "outputs": [],
   "source": [
    "def plot_image_plane():\n",
    "    fig = plt.figure(figsize=(8,10))\n",
    "    ax = fig.add_subplot(projection=\"3d\")\n",
    "\n",
    "    ax.plot_surface(shifted_x, shifted_y, np.zeros_like(shifted_x),  alpha=0.5, cmap='viridis', edgecolor='k')\n",
    "\n",
    "    ax.scatter(0,0,0, color='r')\n",
    "\n",
    "    # ax.scatter(get_shifted_coordinate_from_pixel_y(0, shifted_y), 0,0, color=\"b\")\n",
    "    # ax.scatter(get_shifted_coordinate_from_pixel_y(0, shifted_y), get_shifted_coordinate_from_pixel_x(0, shifted_x),0, color=\"b\")\n",
    "\n",
    "    ax.plot((0,100), (0,0), (0,0), color=\"red\")\n",
    "    ax.plot((0,0), (0,100), (0,0), color=\"green\")\n",
    "    ax.plot((0,0), (0,0), (0,1), color=\"blue\")\n",
    "\n",
    "\n",
    "    ax.set_xlim(-1000, 1300)\n",
    "    ax.set_ylim(-1000,1300 )\n",
    "    ax.set_xlabel(\"X-axis\")\n",
    "    ax.set_ylabel(\"Y-axis\")\n",
    "    ax.set_zlabel(\"Z-axis\")\n",
    "\n",
    "\n",
    "    ax.view_init(elev=90, azim=90)"
   ]
  },
  {
   "cell_type": "code",
   "execution_count": null,
   "metadata": {},
   "outputs": [],
   "source": [
    "def image_grid_rays(image_coords, cx, cy, ):\n",
    "    \n",
    "    rx = cx - image_coords[1, :]\n",
    "    ry = cy - image_coords[0, :]\n",
    "\n",
    "    r_distance = (np.sqrt(rx**2 + ry**2))\n",
    "    return r_distance"
   ]
  },
  {
   "cell_type": "code",
   "execution_count": null,
   "metadata": {},
   "outputs": [],
   "source": [
    "def calculate_rays(bw_coeff):\n",
    "    \n",
    "    r_d = []\n",
    "    rays = []\n",
    "    for v in range(image.shape[0]):\n",
    "        for u in range(image.shape[1]):\n",
    "            ry = v - cam['cy']\n",
    "            rx = u - cam['cx']\n",
    "\n",
    "            r = np.sqrt(rx**2 + ry**2)\n",
    "\n",
    "            theta = np.sum([j*r**i for i, j in enumerate(bw_coeff)])\n",
    "\n",
    "            phi = np.arctan2(ry, rx)\n",
    "            ray = [np.sin(theta)*np.cos(phi),\n",
    "                    np.sin(theta)*np.sin(phi),\n",
    "                      np.cos(theta)]\n",
    "            \n",
    "            r_d.append(r)\n",
    "            rays.append(ray)\n",
    "\n",
    "    return np.array(r_d), np.array(rays)\n",
    "        "
   ]
  },
  {
   "cell_type": "code",
   "execution_count": null,
   "metadata": {},
   "outputs": [],
   "source": [
    "r_d, rays = calculate_rays()"
   ]
  },
  {
   "cell_type": "code",
   "execution_count": null,
   "metadata": {},
   "outputs": [],
   "source": [
    "x_steps = np.linspace(0, 1919, 5, dtype=int)\n",
    "y_steps = np.linspace(0, 1207, 5, dtype=int)"
   ]
  },
  {
   "cell_type": "code",
   "execution_count": null,
   "metadata": {},
   "outputs": [],
   "source": [
    "selected_rays = rays.reshape(1208, 1920, 3)[y_steps, :][:, x_steps] * 100\n",
    "selected_start_points_x = shifted_x[y_steps, :][:, x_steps]\n",
    "selected_start_points_y = shifted_y[y_steps, :][:, x_steps]"
   ]
  },
  {
   "cell_type": "code",
   "execution_count": null,
   "metadata": {},
   "outputs": [],
   "source": [
    "def plot_rays_on_image():\n",
    "    fig = plt.figure(figsize=(8,10))\n",
    "    ax = fig.add_subplot(projection=\"3d\")\n",
    "\n",
    "    ax.plot_surface(shifted_x, shifted_y, np.zeros_like(shifted_x),  alpha=0.5, cmap='viridis', edgecolor='k')\n",
    "    #ax.plot_surface(shifted_x, shifted_y, r_distance.reshape(1208, 1920))\n",
    "    ax.quiver(\n",
    "        selected_start_points_x, selected_start_points_y, np.zeros_like(selected_start_points_x), \n",
    "        selected_rays[..., 0], selected_rays[..., 1], selected_rays[..., 2]\n",
    "    )\n",
    "\n",
    "    ax.scatter(0,0,0, color='r')\n",
    "\n",
    "    # ax.quiver(shifted_x[0, 0], shifted_y[0,0], 0, \n",
    "    #           one_ray[0], one_ray[1], one_ray[2]*10\n",
    "    #           , color=\"black\")\n",
    "\n",
    "    # ax.scatter(get_shifted_coordinate_from_pixel_y(0, shifted_y), 0,0, color=\"b\")\n",
    "    # ax.scatter(get_shifted_coordinate_from_pixel_y(0, shifted_y), get_shifted_coordinate_from_pixel_x(0, shifted_x),0, color=\"b\")\n",
    "\n",
    "\n",
    "    ax.plot((0,100), (0,0), (0,0), color=\"red\")\n",
    "    ax.plot((0,0), (0,100), (0,0), color=\"green\")\n",
    "    ax.plot((0,0), (0,0), (0,1000), color=\"blue\")\n",
    "\n",
    "\n",
    "    ax.set_xlim(-1000, 1300)\n",
    "    ax.set_ylim(-1000,1300 )\n",
    "    ax.set_xlabel(\"X-axis\")\n",
    "    ax.set_ylabel(\"Y-axis\")\n",
    "    ax.set_zlabel(\"Z-axis\")\n",
    "\n",
    "\n"
   ]
  }
 ],
 "metadata": {
  "kernelspec": {
   "display_name": "Python 3",
   "language": "python",
   "name": "python3"
  },
  "language_info": {
   "codemirror_mode": {
    "name": "ipython",
    "version": 3
   },
   "file_extension": ".py",
   "mimetype": "text/x-python",
   "name": "python",
   "nbconvert_exporter": "python",
   "pygments_lexer": "ipython3",
   "version": "3.13.0"
  }
 },
 "nbformat": 4,
 "nbformat_minor": 2
}
