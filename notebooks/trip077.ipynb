{
 "cells": [
  {
   "cell_type": "code",
   "execution_count": 1,
   "metadata": {},
   "outputs": [],
   "source": [
    "import sys\n",
    "import os"
   ]
  },
  {
   "cell_type": "code",
   "execution_count": 2,
   "metadata": {},
   "outputs": [
    {
     "data": {
      "text/plain": [
       "['/cluster/home/terjenf/.conda/envs/ipm/lib/python313.zip',\n",
       " '/cluster/home/terjenf/.conda/envs/ipm/lib/python3.13',\n",
       " '/cluster/home/terjenf/.conda/envs/ipm/lib/python3.13/lib-dynload',\n",
       " '',\n",
       " '/cluster/home/terjenf/.conda/envs/ipm/lib/python3.13/site-packages',\n",
       " '/cluster/home/terjenf/.conda/envs/ipm/lib/python3.13/site-packages/setuptools/_vendor']"
      ]
     },
     "execution_count": 2,
     "metadata": {},
     "output_type": "execute_result"
    }
   ],
   "source": [
    "sys.path"
   ]
  },
  {
   "cell_type": "code",
   "execution_count": 13,
   "metadata": {},
   "outputs": [
    {
     "data": {
      "text/plain": [
       "['/cluster/home/terjenf/.conda/envs/ipm/lib/python313.zip',\n",
       " '/cluster/home/terjenf/.conda/envs/ipm/lib/python3.13',\n",
       " '/cluster/home/terjenf/.conda/envs/ipm/lib/python3.13/lib-dynload',\n",
       " '',\n",
       " '/cluster/home/terjenf/.conda/envs/ipm/lib/python3.13/site-packages',\n",
       " '/cluster/home/terjenf/.conda/envs/ipm/lib/python3.13/site-packages/setuptools/_vendor',\n",
       " '/cluster/home/terjenf/',\n",
       " '/cluster/home/terjenf/',\n",
       " '/cluster/home/terjenf/naplab/',\n",
       " '/cluster/home/terjenf/naplab/naplab_parser/']"
      ]
     },
     "execution_count": 13,
     "metadata": {},
     "output_type": "execute_result"
    }
   ],
   "source": [
    "sys.path.append(\"/cluster/home/terjenf/\")\n",
    "sys.path.append(\"/cluster/home/terjenf/naplab/\")\n",
    "sys.path.append(\"/cluster/home/terjenf/naplab/naplab_parser/\")\n",
    "sys.path"
   ]
  },
  {
   "cell_type": "code",
   "execution_count": 14,
   "metadata": {},
   "outputs": [],
   "source": [
    "import naplab"
   ]
  },
  {
   "cell_type": "code",
   "execution_count": 18,
   "metadata": {},
   "outputs": [
    {
     "ename": "ModuleNotFoundError",
     "evalue": "No module named 'naplab.naplab_parser'",
     "output_type": "error",
     "traceback": [
      "\u001b[0;31m---------------------------------------------------------------------------\u001b[0m",
      "\u001b[0;31mModuleNotFoundError\u001b[0m                       Traceback (most recent call last)",
      "Cell \u001b[0;32mIn[18], line 1\u001b[0m\n\u001b[0;32m----> 1\u001b[0m \u001b[38;5;28;01mimport\u001b[39;00m \u001b[38;5;21;01mnaplab\u001b[39;00m\u001b[38;5;21;01m.\u001b[39;00m\u001b[38;5;21;01mnaplab_parser\u001b[39;00m \n",
      "\u001b[0;31mModuleNotFoundError\u001b[0m: No module named 'naplab.naplab_parser'"
     ]
    }
   ],
   "source": [
    "import naplab.naplab_parser "
   ]
  },
  {
   "cell_type": "code",
   "execution_count": null,
   "metadata": {},
   "outputs": [],
   "source": []
  }
 ],
 "metadata": {
  "kernelspec": {
   "display_name": "Python 3",
   "language": "python",
   "name": "python3"
  },
  "language_info": {
   "codemirror_mode": {
    "name": "ipython",
    "version": 3
   },
   "file_extension": ".py",
   "mimetype": "text/x-python",
   "name": "python",
   "nbconvert_exporter": "python",
   "pygments_lexer": "ipython3",
   "version": "3.13.0"
  }
 },
 "nbformat": 4,
 "nbformat_minor": 2
}
